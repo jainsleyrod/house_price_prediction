{
 "cells": [
  {
   "cell_type": "code",
   "execution_count": 1,
   "metadata": {},
   "outputs": [],
   "source": [
    "import pandas as pd\n",
    "import numpy as np"
   ]
  },
  {
   "cell_type": "code",
   "execution_count": 2,
   "metadata": {},
   "outputs": [],
   "source": [
    "df = pd.read_csv('data.csv')"
   ]
  },
  {
   "cell_type": "code",
   "execution_count": 3,
   "metadata": {},
   "outputs": [
    {
     "data": {
      "text/html": [
       "<div>\n",
       "<style scoped>\n",
       "    .dataframe tbody tr th:only-of-type {\n",
       "        vertical-align: middle;\n",
       "    }\n",
       "\n",
       "    .dataframe tbody tr th {\n",
       "        vertical-align: top;\n",
       "    }\n",
       "\n",
       "    .dataframe thead th {\n",
       "        text-align: right;\n",
       "    }\n",
       "</style>\n",
       "<table border=\"1\" class=\"dataframe\">\n",
       "  <thead>\n",
       "    <tr style=\"text-align: right;\">\n",
       "      <th></th>\n",
       "      <th>area</th>\n",
       "      <th>floorRange</th>\n",
       "      <th>noOfUnits</th>\n",
       "      <th>contractDate</th>\n",
       "      <th>typeOfSale</th>\n",
       "      <th>price</th>\n",
       "      <th>propertyType</th>\n",
       "      <th>district</th>\n",
       "      <th>typeOfArea</th>\n",
       "      <th>tenure</th>\n",
       "      <th>mktSegment</th>\n",
       "    </tr>\n",
       "  </thead>\n",
       "  <tbody>\n",
       "    <tr>\n",
       "      <th>0</th>\n",
       "      <td>308.0</td>\n",
       "      <td>-</td>\n",
       "      <td>1</td>\n",
       "      <td>921</td>\n",
       "      <td>3</td>\n",
       "      <td>5200000</td>\n",
       "      <td>Semi-detached</td>\n",
       "      <td>5</td>\n",
       "      <td>Land</td>\n",
       "      <td>Freehold</td>\n",
       "      <td>RCR</td>\n",
       "    </tr>\n",
       "    <tr>\n",
       "      <th>1</th>\n",
       "      <td>257.0</td>\n",
       "      <td>-</td>\n",
       "      <td>1</td>\n",
       "      <td>522</td>\n",
       "      <td>3</td>\n",
       "      <td>4600000</td>\n",
       "      <td>Terrace</td>\n",
       "      <td>5</td>\n",
       "      <td>Land</td>\n",
       "      <td>Freehold</td>\n",
       "      <td>RCR</td>\n",
       "    </tr>\n",
       "    <tr>\n",
       "      <th>2</th>\n",
       "      <td>249.0</td>\n",
       "      <td>01-05</td>\n",
       "      <td>1</td>\n",
       "      <td>123</td>\n",
       "      <td>3</td>\n",
       "      <td>4609400</td>\n",
       "      <td>Condominium</td>\n",
       "      <td>4</td>\n",
       "      <td>Strata</td>\n",
       "      <td>99 yrs lease commencing from 2007</td>\n",
       "      <td>CCR</td>\n",
       "    </tr>\n",
       "    <tr>\n",
       "      <th>3</th>\n",
       "      <td>77.0</td>\n",
       "      <td>36-40</td>\n",
       "      <td>1</td>\n",
       "      <td>424</td>\n",
       "      <td>3</td>\n",
       "      <td>1960000</td>\n",
       "      <td>Apartment</td>\n",
       "      <td>3</td>\n",
       "      <td>Strata</td>\n",
       "      <td>99 yrs lease commencing from 2016</td>\n",
       "      <td>RCR</td>\n",
       "    </tr>\n",
       "    <tr>\n",
       "      <th>4</th>\n",
       "      <td>93.0</td>\n",
       "      <td>01-05</td>\n",
       "      <td>1</td>\n",
       "      <td>1020</td>\n",
       "      <td>3</td>\n",
       "      <td>1500000</td>\n",
       "      <td>Apartment</td>\n",
       "      <td>3</td>\n",
       "      <td>Strata</td>\n",
       "      <td>Freehold</td>\n",
       "      <td>RCR</td>\n",
       "    </tr>\n",
       "  </tbody>\n",
       "</table>\n",
       "</div>"
      ],
      "text/plain": [
       "    area floorRange  noOfUnits  contractDate  typeOfSale    price  \\\n",
       "0  308.0          -          1           921           3  5200000   \n",
       "1  257.0          -          1           522           3  4600000   \n",
       "2  249.0      01-05          1           123           3  4609400   \n",
       "3   77.0      36-40          1           424           3  1960000   \n",
       "4   93.0      01-05          1          1020           3  1500000   \n",
       "\n",
       "    propertyType  district typeOfArea                             tenure  \\\n",
       "0  Semi-detached         5       Land                           Freehold   \n",
       "1        Terrace         5       Land                           Freehold   \n",
       "2    Condominium         4     Strata  99 yrs lease commencing from 2007   \n",
       "3      Apartment         3     Strata  99 yrs lease commencing from 2016   \n",
       "4      Apartment         3     Strata                           Freehold   \n",
       "\n",
       "  mktSegment  \n",
       "0        RCR  \n",
       "1        RCR  \n",
       "2        CCR  \n",
       "3        RCR  \n",
       "4        RCR  "
      ]
     },
     "execution_count": 3,
     "metadata": {},
     "output_type": "execute_result"
    }
   ],
   "source": [
    "df.head()"
   ]
  },
  {
   "cell_type": "code",
   "execution_count": 5,
   "metadata": {},
   "outputs": [
    {
     "data": {
      "text/plain": [
       "(3585, 11)"
      ]
     },
     "execution_count": 5,
     "metadata": {},
     "output_type": "execute_result"
    }
   ],
   "source": [
    "df.shape"
   ]
  },
  {
   "cell_type": "code",
   "execution_count": 8,
   "metadata": {},
   "outputs": [
    {
     "name": "stdout",
     "output_type": "stream",
     "text": [
      "<class 'pandas.core.frame.DataFrame'>\n",
      "RangeIndex: 3585 entries, 0 to 3584\n",
      "Data columns (total 11 columns):\n",
      " #   Column        Non-Null Count  Dtype  \n",
      "---  ------        --------------  -----  \n",
      " 0   area          3585 non-null   float64\n",
      " 1   floorRange    3585 non-null   object \n",
      " 2   noOfUnits     3585 non-null   int64  \n",
      " 3   contractDate  3585 non-null   int64  \n",
      " 4   typeOfSale    3585 non-null   int64  \n",
      " 5   price         3585 non-null   int64  \n",
      " 6   propertyType  3585 non-null   object \n",
      " 7   district      3585 non-null   int64  \n",
      " 8   typeOfArea    3585 non-null   object \n",
      " 9   tenure        3585 non-null   object \n",
      " 10  mktSegment    3585 non-null   object \n",
      "dtypes: float64(1), int64(5), object(5)\n",
      "memory usage: 308.2+ KB\n"
     ]
    }
   ],
   "source": [
    "df.info()"
   ]
  },
  {
   "cell_type": "markdown",
   "metadata": {},
   "source": [
    "typeofSale: should be categoical variable\n",
    "\n",
    "noOfUnits: remove\n",
    "\n",
    "contractDate: I will just extract last two numbers which is the Year"
   ]
  },
  {
   "cell_type": "code",
   "execution_count": 7,
   "metadata": {},
   "outputs": [
    {
     "data": {
      "text/html": [
       "<div>\n",
       "<style scoped>\n",
       "    .dataframe tbody tr th:only-of-type {\n",
       "        vertical-align: middle;\n",
       "    }\n",
       "\n",
       "    .dataframe tbody tr th {\n",
       "        vertical-align: top;\n",
       "    }\n",
       "\n",
       "    .dataframe thead th {\n",
       "        text-align: right;\n",
       "    }\n",
       "</style>\n",
       "<table border=\"1\" class=\"dataframe\">\n",
       "  <thead>\n",
       "    <tr style=\"text-align: right;\">\n",
       "      <th></th>\n",
       "      <th>area</th>\n",
       "      <th>noOfUnits</th>\n",
       "      <th>contractDate</th>\n",
       "      <th>typeOfSale</th>\n",
       "      <th>price</th>\n",
       "      <th>district</th>\n",
       "    </tr>\n",
       "  </thead>\n",
       "  <tbody>\n",
       "    <tr>\n",
       "      <th>count</th>\n",
       "      <td>3585.000000</td>\n",
       "      <td>3585.000000</td>\n",
       "      <td>3585.000000</td>\n",
       "      <td>3585.000000</td>\n",
       "      <td>3.585000e+03</td>\n",
       "      <td>3585.000000</td>\n",
       "    </tr>\n",
       "    <tr>\n",
       "      <th>mean</th>\n",
       "      <td>281.895676</td>\n",
       "      <td>1.366248</td>\n",
       "      <td>670.650209</td>\n",
       "      <td>2.907950</td>\n",
       "      <td>5.078949e+06</td>\n",
       "      <td>13.403068</td>\n",
       "    </tr>\n",
       "    <tr>\n",
       "      <th>std</th>\n",
       "      <td>1252.855246</td>\n",
       "      <td>8.653487</td>\n",
       "      <td>314.682513</td>\n",
       "      <td>0.404917</td>\n",
       "      <td>2.137065e+07</td>\n",
       "      <td>4.487102</td>\n",
       "    </tr>\n",
       "    <tr>\n",
       "      <th>min</th>\n",
       "      <td>30.000000</td>\n",
       "      <td>1.000000</td>\n",
       "      <td>120.000000</td>\n",
       "      <td>1.000000</td>\n",
       "      <td>3.400000e+05</td>\n",
       "      <td>1.000000</td>\n",
       "    </tr>\n",
       "    <tr>\n",
       "      <th>25%</th>\n",
       "      <td>97.000000</td>\n",
       "      <td>1.000000</td>\n",
       "      <td>423.000000</td>\n",
       "      <td>3.000000</td>\n",
       "      <td>1.503888e+06</td>\n",
       "      <td>10.000000</td>\n",
       "    </tr>\n",
       "    <tr>\n",
       "      <th>50%</th>\n",
       "      <td>148.800000</td>\n",
       "      <td>1.000000</td>\n",
       "      <td>623.000000</td>\n",
       "      <td>3.000000</td>\n",
       "      <td>2.500000e+06</td>\n",
       "      <td>14.000000</td>\n",
       "    </tr>\n",
       "    <tr>\n",
       "      <th>75%</th>\n",
       "      <td>257.000000</td>\n",
       "      <td>1.000000</td>\n",
       "      <td>922.000000</td>\n",
       "      <td>3.000000</td>\n",
       "      <td>4.310000e+06</td>\n",
       "      <td>16.000000</td>\n",
       "    </tr>\n",
       "    <tr>\n",
       "      <th>max</th>\n",
       "      <td>57584.000000</td>\n",
       "      <td>446.000000</td>\n",
       "      <td>1223.000000</td>\n",
       "      <td>3.000000</td>\n",
       "      <td>8.900000e+08</td>\n",
       "      <td>21.000000</td>\n",
       "    </tr>\n",
       "  </tbody>\n",
       "</table>\n",
       "</div>"
      ],
      "text/plain": [
       "               area    noOfUnits  contractDate   typeOfSale         price  \\\n",
       "count   3585.000000  3585.000000   3585.000000  3585.000000  3.585000e+03   \n",
       "mean     281.895676     1.366248    670.650209     2.907950  5.078949e+06   \n",
       "std     1252.855246     8.653487    314.682513     0.404917  2.137065e+07   \n",
       "min       30.000000     1.000000    120.000000     1.000000  3.400000e+05   \n",
       "25%       97.000000     1.000000    423.000000     3.000000  1.503888e+06   \n",
       "50%      148.800000     1.000000    623.000000     3.000000  2.500000e+06   \n",
       "75%      257.000000     1.000000    922.000000     3.000000  4.310000e+06   \n",
       "max    57584.000000   446.000000   1223.000000     3.000000  8.900000e+08   \n",
       "\n",
       "          district  \n",
       "count  3585.000000  \n",
       "mean     13.403068  \n",
       "std       4.487102  \n",
       "min       1.000000  \n",
       "25%      10.000000  \n",
       "50%      14.000000  \n",
       "75%      16.000000  \n",
       "max      21.000000  "
      ]
     },
     "execution_count": 7,
     "metadata": {},
     "output_type": "execute_result"
    }
   ],
   "source": [
    "df.describe()"
   ]
  },
  {
   "cell_type": "code",
   "execution_count": 9,
   "metadata": {},
   "outputs": [
    {
     "name": "stdout",
     "output_type": "stream",
     "text": [
      "area            0\n",
      "floorRange      0\n",
      "noOfUnits       0\n",
      "contractDate    0\n",
      "typeOfSale      0\n",
      "price           0\n",
      "propertyType    0\n",
      "district        0\n",
      "typeOfArea      0\n",
      "tenure          0\n",
      "mktSegment      0\n",
      "dtype: int64\n"
     ]
    }
   ],
   "source": [
    "print(df.isnull().sum())"
   ]
  },
  {
   "cell_type": "code",
   "execution_count": 14,
   "metadata": {},
   "outputs": [
    {
     "data": {
      "text/plain": [
       "propertyType\n",
       "Apartment                2.590908e+06\n",
       "Condominium              6.532673e+06\n",
       "Detached                 1.806831e+07\n",
       "Executive Condominium    1.500727e+06\n",
       "Semi-detached            6.059235e+06\n",
       "Strata Detached          4.280175e+06\n",
       "Strata Semi-detached     4.535714e+06\n",
       "Strata Terrace           3.879419e+06\n",
       "Terrace                  3.895908e+06\n",
       "Name: price, dtype: float64"
      ]
     },
     "execution_count": 14,
     "metadata": {},
     "output_type": "execute_result"
    }
   ],
   "source": [
    "df.groupby('propertyType')['price'].mean()"
   ]
  },
  {
   "cell_type": "code",
   "execution_count": 21,
   "metadata": {},
   "outputs": [
    {
     "data": {
      "text/plain": [
       "floorRange\n",
       "01-05    1407\n",
       "-        1347\n",
       "06-10     397\n",
       "11-15     229\n",
       "16-20      94\n",
       "21-25      48\n",
       "26-30      24\n",
       "31-35      19\n",
       "36-40      11\n",
       "41-45       4\n",
       "46-50       2\n",
       "51-55       1\n",
       "B1-B5       1\n",
       "56-60       1\n",
       "Name: count, dtype: int64"
      ]
     },
     "execution_count": 21,
     "metadata": {},
     "output_type": "execute_result"
    }
   ],
   "source": [
    "df['floorRange'].value_counts()"
   ]
  },
  {
   "cell_type": "code",
   "execution_count": null,
   "metadata": {},
   "outputs": [],
   "source": []
  }
 ],
 "metadata": {
  "kernelspec": {
   "display_name": "Python 3",
   "language": "python",
   "name": "python3"
  },
  "language_info": {
   "codemirror_mode": {
    "name": "ipython",
    "version": 3
   },
   "file_extension": ".py",
   "mimetype": "text/x-python",
   "name": "python",
   "nbconvert_exporter": "python",
   "pygments_lexer": "ipython3",
   "version": "3.10.0"
  }
 },
 "nbformat": 4,
 "nbformat_minor": 2
}
