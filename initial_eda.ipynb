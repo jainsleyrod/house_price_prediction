{
 "cells": [
  {
   "cell_type": "code",
   "execution_count": 1,
   "metadata": {},
   "outputs": [],
   "source": [
    "from src.utils import retrieve_data_from_db\n",
    "import pandas as pd\n",
    "import numpy as np"
   ]
  },
  {
   "cell_type": "code",
   "execution_count": 9,
   "metadata": {},
   "outputs": [],
   "source": [
    "df = retrieve_data_from_db(r'C:\\Users\\James\\OneDrive\\Desktop\\house_price_prediction\\house_data.db','house_data')"
   ]
  },
  {
   "cell_type": "code",
   "execution_count": 10,
   "metadata": {},
   "outputs": [
    {
     "data": {
      "text/html": [
       "<div>\n",
       "<style scoped>\n",
       "    .dataframe tbody tr th:only-of-type {\n",
       "        vertical-align: middle;\n",
       "    }\n",
       "\n",
       "    .dataframe tbody tr th {\n",
       "        vertical-align: top;\n",
       "    }\n",
       "\n",
       "    .dataframe thead th {\n",
       "        text-align: right;\n",
       "    }\n",
       "</style>\n",
       "<table border=\"1\" class=\"dataframe\">\n",
       "  <thead>\n",
       "    <tr style=\"text-align: right;\">\n",
       "      <th></th>\n",
       "      <th>area</th>\n",
       "      <th>floorRange</th>\n",
       "      <th>noOfUnits</th>\n",
       "      <th>contractDate</th>\n",
       "      <th>typeOfSale</th>\n",
       "      <th>price</th>\n",
       "      <th>propertyType</th>\n",
       "      <th>district</th>\n",
       "      <th>typeOfArea</th>\n",
       "      <th>tenure</th>\n",
       "      <th>mktSegment</th>\n",
       "    </tr>\n",
       "  </thead>\n",
       "  <tbody>\n",
       "    <tr>\n",
       "      <th>0</th>\n",
       "      <td>308</td>\n",
       "      <td>-</td>\n",
       "      <td>1</td>\n",
       "      <td>0921</td>\n",
       "      <td>3</td>\n",
       "      <td>5200000</td>\n",
       "      <td>Semi-detached</td>\n",
       "      <td>05</td>\n",
       "      <td>Land</td>\n",
       "      <td>Freehold</td>\n",
       "      <td>RCR</td>\n",
       "    </tr>\n",
       "    <tr>\n",
       "      <th>1</th>\n",
       "      <td>257</td>\n",
       "      <td>-</td>\n",
       "      <td>1</td>\n",
       "      <td>0522</td>\n",
       "      <td>3</td>\n",
       "      <td>4600000</td>\n",
       "      <td>Terrace</td>\n",
       "      <td>05</td>\n",
       "      <td>Land</td>\n",
       "      <td>Freehold</td>\n",
       "      <td>RCR</td>\n",
       "    </tr>\n",
       "    <tr>\n",
       "      <th>2</th>\n",
       "      <td>249</td>\n",
       "      <td>01-05</td>\n",
       "      <td>1</td>\n",
       "      <td>0123</td>\n",
       "      <td>3</td>\n",
       "      <td>4609400</td>\n",
       "      <td>Condominium</td>\n",
       "      <td>04</td>\n",
       "      <td>Strata</td>\n",
       "      <td>99 yrs lease commencing from 2007</td>\n",
       "      <td>CCR</td>\n",
       "    </tr>\n",
       "    <tr>\n",
       "      <th>3</th>\n",
       "      <td>77</td>\n",
       "      <td>36-40</td>\n",
       "      <td>1</td>\n",
       "      <td>0424</td>\n",
       "      <td>3</td>\n",
       "      <td>1960000</td>\n",
       "      <td>Apartment</td>\n",
       "      <td>03</td>\n",
       "      <td>Strata</td>\n",
       "      <td>99 yrs lease commencing from 2016</td>\n",
       "      <td>RCR</td>\n",
       "    </tr>\n",
       "    <tr>\n",
       "      <th>4</th>\n",
       "      <td>93</td>\n",
       "      <td>01-05</td>\n",
       "      <td>1</td>\n",
       "      <td>1020</td>\n",
       "      <td>3</td>\n",
       "      <td>1500000</td>\n",
       "      <td>Apartment</td>\n",
       "      <td>03</td>\n",
       "      <td>Strata</td>\n",
       "      <td>Freehold</td>\n",
       "      <td>RCR</td>\n",
       "    </tr>\n",
       "  </tbody>\n",
       "</table>\n",
       "</div>"
      ],
      "text/plain": [
       "  area floorRange noOfUnits contractDate typeOfSale    price   propertyType  \\\n",
       "0  308          -         1         0921          3  5200000  Semi-detached   \n",
       "1  257          -         1         0522          3  4600000        Terrace   \n",
       "2  249      01-05         1         0123          3  4609400    Condominium   \n",
       "3   77      36-40         1         0424          3  1960000      Apartment   \n",
       "4   93      01-05         1         1020          3  1500000      Apartment   \n",
       "\n",
       "  district typeOfArea                             tenure mktSegment  \n",
       "0       05       Land                           Freehold        RCR  \n",
       "1       05       Land                           Freehold        RCR  \n",
       "2       04     Strata  99 yrs lease commencing from 2007        CCR  \n",
       "3       03     Strata  99 yrs lease commencing from 2016        RCR  \n",
       "4       03     Strata                           Freehold        RCR  "
      ]
     },
     "execution_count": 10,
     "metadata": {},
     "output_type": "execute_result"
    }
   ],
   "source": [
    "df.head()"
   ]
  },
  {
   "cell_type": "markdown",
   "metadata": {},
   "source": [
    "### Remove tenure and noofunits cause they are not useful"
   ]
  },
  {
   "cell_type": "markdown",
   "metadata": {},
   "source": [
    "## Some simple data exploration"
   ]
  },
  {
   "cell_type": "code",
   "execution_count": 11,
   "metadata": {},
   "outputs": [
    {
     "name": "stdout",
     "output_type": "stream",
     "text": [
      "<class 'pandas.core.frame.DataFrame'>\n",
      "RangeIndex: 3585 entries, 0 to 3584\n",
      "Data columns (total 11 columns):\n",
      " #   Column        Non-Null Count  Dtype \n",
      "---  ------        --------------  ----- \n",
      " 0   area          3585 non-null   object\n",
      " 1   floorRange    3585 non-null   object\n",
      " 2   noOfUnits     3585 non-null   object\n",
      " 3   contractDate  3585 non-null   object\n",
      " 4   typeOfSale    3585 non-null   object\n",
      " 5   price         3585 non-null   object\n",
      " 6   propertyType  3585 non-null   object\n",
      " 7   district      3585 non-null   object\n",
      " 8   typeOfArea    3585 non-null   object\n",
      " 9   tenure        3585 non-null   object\n",
      " 10  mktSegment    3585 non-null   object\n",
      "dtypes: object(11)\n",
      "memory usage: 308.2+ KB\n"
     ]
    }
   ],
   "source": [
    "df.info()"
   ]
  },
  {
   "cell_type": "markdown",
   "metadata": {},
   "source": [
    "### Convert features area,price to numerical"
   ]
  },
  {
   "cell_type": "code",
   "execution_count": 6,
   "metadata": {},
   "outputs": [
    {
     "data": {
      "text/html": [
       "<div>\n",
       "<style scoped>\n",
       "    .dataframe tbody tr th:only-of-type {\n",
       "        vertical-align: middle;\n",
       "    }\n",
       "\n",
       "    .dataframe tbody tr th {\n",
       "        vertical-align: top;\n",
       "    }\n",
       "\n",
       "    .dataframe thead th {\n",
       "        text-align: right;\n",
       "    }\n",
       "</style>\n",
       "<table border=\"1\" class=\"dataframe\">\n",
       "  <thead>\n",
       "    <tr style=\"text-align: right;\">\n",
       "      <th></th>\n",
       "      <th>area</th>\n",
       "      <th>floorRange</th>\n",
       "      <th>noOfUnits</th>\n",
       "      <th>contractDate</th>\n",
       "      <th>typeOfSale</th>\n",
       "      <th>price</th>\n",
       "      <th>propertyType</th>\n",
       "      <th>district</th>\n",
       "      <th>typeOfArea</th>\n",
       "      <th>tenure</th>\n",
       "      <th>mktSegment</th>\n",
       "    </tr>\n",
       "  </thead>\n",
       "  <tbody>\n",
       "    <tr>\n",
       "      <th>count</th>\n",
       "      <td>3585</td>\n",
       "      <td>3585</td>\n",
       "      <td>3585</td>\n",
       "      <td>3585</td>\n",
       "      <td>3585</td>\n",
       "      <td>3585</td>\n",
       "      <td>3585</td>\n",
       "      <td>3585</td>\n",
       "      <td>3585</td>\n",
       "      <td>3585</td>\n",
       "      <td>3585</td>\n",
       "    </tr>\n",
       "    <tr>\n",
       "      <th>unique</th>\n",
       "      <td>1351</td>\n",
       "      <td>14</td>\n",
       "      <td>24</td>\n",
       "      <td>61</td>\n",
       "      <td>3</td>\n",
       "      <td>1317</td>\n",
       "      <td>9</td>\n",
       "      <td>21</td>\n",
       "      <td>2</td>\n",
       "      <td>107</td>\n",
       "      <td>3</td>\n",
       "    </tr>\n",
       "    <tr>\n",
       "      <th>top</th>\n",
       "      <td>113</td>\n",
       "      <td>01-05</td>\n",
       "      <td>1</td>\n",
       "      <td>0723</td>\n",
       "      <td>3</td>\n",
       "      <td>2000000</td>\n",
       "      <td>Apartment</td>\n",
       "      <td>15</td>\n",
       "      <td>Strata</td>\n",
       "      <td>Freehold</td>\n",
       "      <td>OCR</td>\n",
       "    </tr>\n",
       "    <tr>\n",
       "      <th>freq</th>\n",
       "      <td>34</td>\n",
       "      <td>1407</td>\n",
       "      <td>3538</td>\n",
       "      <td>278</td>\n",
       "      <td>3399</td>\n",
       "      <td>30</td>\n",
       "      <td>1519</td>\n",
       "      <td>635</td>\n",
       "      <td>2388</td>\n",
       "      <td>2797</td>\n",
       "      <td>1299</td>\n",
       "    </tr>\n",
       "  </tbody>\n",
       "</table>\n",
       "</div>"
      ],
      "text/plain": [
       "        area floorRange noOfUnits contractDate typeOfSale    price  \\\n",
       "count   3585       3585      3585         3585       3585     3585   \n",
       "unique  1351         14        24           61          3     1317   \n",
       "top      113      01-05         1         0723          3  2000000   \n",
       "freq      34       1407      3538          278       3399       30   \n",
       "\n",
       "       propertyType district typeOfArea    tenure mktSegment  \n",
       "count          3585     3585       3585      3585       3585  \n",
       "unique            9       21          2       107          3  \n",
       "top       Apartment       15     Strata  Freehold        OCR  \n",
       "freq           1519      635       2388      2797       1299  "
      ]
     },
     "execution_count": 6,
     "metadata": {},
     "output_type": "execute_result"
    }
   ],
   "source": [
    "df.describe()"
   ]
  },
  {
   "cell_type": "code",
   "execution_count": 14,
   "metadata": {},
   "outputs": [
    {
     "data": {
      "text/plain": [
       "area            0\n",
       "floorRange      0\n",
       "noOfUnits       0\n",
       "contractDate    0\n",
       "typeOfSale      0\n",
       "price           0\n",
       "propertyType    0\n",
       "district        0\n",
       "typeOfArea      0\n",
       "tenure          0\n",
       "mktSegment      0\n",
       "dtype: int64"
      ]
     },
     "execution_count": 14,
     "metadata": {},
     "output_type": "execute_result"
    }
   ],
   "source": [
    "df.isna().sum()"
   ]
  }
 ],
 "metadata": {
  "kernelspec": {
   "display_name": "Python 3",
   "language": "python",
   "name": "python3"
  },
  "language_info": {
   "codemirror_mode": {
    "name": "ipython",
    "version": 3
   },
   "file_extension": ".py",
   "mimetype": "text/x-python",
   "name": "python",
   "nbconvert_exporter": "python",
   "pygments_lexer": "ipython3",
   "version": "3.10.0"
  }
 },
 "nbformat": 4,
 "nbformat_minor": 2
}
